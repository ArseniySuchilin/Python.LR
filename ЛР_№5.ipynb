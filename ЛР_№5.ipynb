{
  "cells": [
    {
      "cell_type": "markdown",
      "metadata": {
        "id": "lhLob9zN-iVt"
      },
      "source": [
        "#ЛР №5\n",
        "\n",
        "Исключения. Функциональный стиль в Python (на примере map()). Lambda. Итераторы и генераторы. Обзор стандартной библиотеки Python 3 и часто используемых сторонних модулей. Регулярные выражения."
      ]
    },
    {
      "cell_type": "markdown",
      "metadata": {
        "id": "PCgUvqQWgI2Z"
      },
      "source": [
        "#Задача №1 (try except)\n",
        "\n",
        "Напсать функцию подсчета суммы числовых элементов списка. Элементы списка могут быть любым типом данных. Если в списке встретиться элемент не числового типа, то необходимо вычесть из накопленной суммы 1.\n",
        "\n",
        "В функции использовать try except блок."
      ]
    },
    {
      "cell_type": "code",
      "source": [
        "def sum_elem(lst):\n",
        "    total_sum = 0\n",
        "    for element in lst:\n",
        "        try:\n",
        "            num_value = float(element)\n",
        "            total_sum += num_value\n",
        "        except (ValueError, TypeError):\n",
        "            total_sum -= 1\n",
        "\n",
        "    return total_sum\n",
        "\n",
        "\n",
        "a = [1, 2, 3.5, 'hello', [4, 5], 6, None, 7.2]\n",
        "result = sum_elem(a)\n",
        "print(result)"
      ],
      "metadata": {
        "colab": {
          "base_uri": "https://localhost:8080/"
        },
        "id": "BPyX_uzhG5pX",
        "outputId": "d22d12bb-1713-497b-bea0-756da96a85c6"
      },
      "execution_count": null,
      "outputs": [
        {
          "output_type": "stream",
          "name": "stdout",
          "text": [
            "16.7\n"
          ]
        }
      ]
    },
    {
      "cell_type": "markdown",
      "metadata": {
        "id": "PyAYZaBty1Yu"
      },
      "source": [
        "Задание со звездочкой*\n",
        "\n",
        "Если все элементы списка не числовые то выбросить исключение с тектом 'Элементы списка нельзя суммировать'."
      ]
    },
    {
      "cell_type": "code",
      "source": [
        "def sum_elem(lst):\n",
        "    total_sum = 0\n",
        "    has_num_elem = False\n",
        "\n",
        "    for element in lst:\n",
        "        try:\n",
        "            num_value = float(element)\n",
        "            total_sum += num_value\n",
        "            has_num_elem = True\n",
        "        except (ValueError, TypeError):\n",
        "            total_sum -= 1\n",
        "\n",
        "    if not has_num_elem:\n",
        "        raise ValueError('Элементы списка нельзя суммировать')\n",
        "\n",
        "    return total_sum\n",
        "\n",
        "example_list = ['hello', [4, 5], None, 'world']\n",
        "try:\n",
        "    result = sum_elem(example_list)\n",
        "    print(result)\n",
        "except ValueError as e:\n",
        "    print(e)"
      ],
      "metadata": {
        "colab": {
          "base_uri": "https://localhost:8080/"
        },
        "id": "rcWy75qUHyms",
        "outputId": "69f46cda-509c-472d-ed42-63137002980d"
      },
      "execution_count": null,
      "outputs": [
        {
          "output_type": "stream",
          "name": "stdout",
          "text": [
            "Элементы списка нельзя суммировать\n"
          ]
        }
      ]
    },
    {
      "cell_type": "markdown",
      "metadata": {
        "id": "04iiP9iDpebQ"
      },
      "source": [
        "#Задача №2 (map)\n",
        "\n",
        "Примените функцию к списку словарей"
      ]
    },
    {
      "cell_type": "code",
      "execution_count": null,
      "metadata": {
        "id": "dxF6du8_xj19"
      },
      "outputs": [],
      "source": [
        "def foo(d):\n",
        "  d.update({'new_key':'with_map'})\n",
        "  return d"
      ]
    },
    {
      "cell_type": "code",
      "source": [
        "list_of_dicts = [\n",
        "    {'key1': 'value1'},\n",
        "    {'key2': 'value2'},\n",
        "    {'key3': 'value3'}\n",
        "]"
      ],
      "metadata": {
        "id": "jw6owxzgI2Nc"
      },
      "execution_count": null,
      "outputs": []
    },
    {
      "cell_type": "code",
      "source": [
        "updated_list_of_dicts = list(map(foo, list_of_dicts))\n",
        "for d in updated_list_of_dicts:\n",
        "    print(d)"
      ],
      "metadata": {
        "colab": {
          "base_uri": "https://localhost:8080/"
        },
        "id": "ZLnQrlTyI4Cg",
        "outputId": "1ade73a4-5271-45ec-dc66-0fb072471625"
      },
      "execution_count": null,
      "outputs": [
        {
          "output_type": "stream",
          "name": "stdout",
          "text": [
            "{'key1': 'value1', 'new_key': 'with_map'}\n",
            "{'key2': 'value2', 'new_key': 'with_map'}\n",
            "{'key3': 'value3', 'new_key': 'with_map'}\n"
          ]
        }
      ]
    },
    {
      "cell_type": "markdown",
      "metadata": {
        "id": "rSctr2YVqiIq"
      },
      "source": [
        "#Задача №3 (filter)\n",
        "\n",
        "Сформировать список положительных элементов списка a\n",
        "\n",
        "a = [-1, 2, -3, 4, 5]"
      ]
    },
    {
      "cell_type": "code",
      "source": [
        "a = [-1, 2, -3, 4, 5]\n",
        "\n",
        "positive_elements = list(filter(lambda x: x > 0, a))\n",
        "\n",
        "print(positive_elements)"
      ],
      "metadata": {
        "colab": {
          "base_uri": "https://localhost:8080/"
        },
        "id": "dAtTUv4hJD4D",
        "outputId": "1492ab79-9685-4a83-9c4e-e6fb1e77ae73"
      },
      "execution_count": null,
      "outputs": [
        {
          "output_type": "stream",
          "name": "stdout",
          "text": [
            "[2, 4, 5]\n"
          ]
        }
      ]
    },
    {
      "cell_type": "markdown",
      "metadata": {
        "id": "pWlSncGPq-eV"
      },
      "source": [
        "#Задача №4 (Lambda)\n",
        "\n",
        "Переписать функцию foo в виде lambda и применить ее к 2 произвольным спискам"
      ]
    },
    {
      "cell_type": "code",
      "execution_count": null,
      "metadata": {
        "colab": {
          "base_uri": "https://localhost:8080/"
        },
        "id": "Sa9twmKXrjLE",
        "outputId": "80d0b197-123e-4111-d922-4ed7c873ed54"
      },
      "outputs": [
        {
          "data": {
            "text/plain": [
              "[1, 0, 1]"
            ]
          },
          "execution_count": 24,
          "metadata": {},
          "output_type": "execute_result"
        }
      ],
      "source": [
        "def foo(a, b):\n",
        "  c = []\n",
        "  for i in range(len(a)):\n",
        "    if a[i] > b[i]:\n",
        "      c.append(0)\n",
        "    else:\n",
        "      c.append(1)\n",
        "  return c\n",
        "\n",
        "foo([1, 2, 3], [4, 1, 6])"
      ]
    },
    {
      "cell_type": "code",
      "source": [
        "list1 = [1, 2, 3]\n",
        "list2 = [4, 1, 6]\n",
        "\n",
        "foo = lambda a, b: [0 if a[i] > b[i] else 1 for i in range(len(a))]\n",
        "\n",
        "result = foo(list1, list2)\n",
        "\n",
        "print(result)"
      ],
      "metadata": {
        "colab": {
          "base_uri": "https://localhost:8080/"
        },
        "id": "Aqn82AaRJyQa",
        "outputId": "63565bba-a0ea-4e1e-fd54-45e3688963cd"
      },
      "execution_count": null,
      "outputs": [
        {
          "output_type": "stream",
          "name": "stdout",
          "text": [
            "[1, 0, 1]\n"
          ]
        }
      ]
    },
    {
      "cell_type": "markdown",
      "metadata": {
        "id": "GmvaSatNva0p"
      },
      "source": [
        "##Задача №5 (генератор и итератор)\n",
        "\n",
        "Напишите бесконечный генератор чисел, убывающих в геометрической прогрессии"
      ]
    },
    {
      "cell_type": "code",
      "source": [
        "def geom_generator(start, numb):\n",
        "    a = start\n",
        "    while True:\n",
        "        yield a\n",
        "        a *= numb\n",
        "\n",
        "gen = geom_generator(100, 0.5)\n",
        "\n",
        "for _ in range(10):\n",
        "    print(next(gen))"
      ],
      "metadata": {
        "colab": {
          "base_uri": "https://localhost:8080/"
        },
        "id": "rxJJOmurKDzC",
        "outputId": "bc40ea9e-eb38-4af0-d8bd-a19aa6f9986f"
      },
      "execution_count": null,
      "outputs": [
        {
          "output_type": "stream",
          "name": "stdout",
          "text": [
            "100\n",
            "50.0\n",
            "25.0\n",
            "12.5\n",
            "6.25\n",
            "3.125\n",
            "1.5625\n",
            "0.78125\n",
            "0.390625\n",
            "0.1953125\n"
          ]
        }
      ]
    },
    {
      "cell_type": "markdown",
      "metadata": {
        "id": "THYXHisVvm2V"
      },
      "source": [
        "##Задача №6 (регулярные выражения)\n",
        "\n",
        "Найдите в строке все цифры начинающиеся с 1 \"anf 17u fkjgktjg 123 gvbnn 81 jfjgj 12\" -> 17, 123, 12\n",
        "\n"
      ]
    },
    {
      "cell_type": "code",
      "source": [
        "import re"
      ],
      "metadata": {
        "id": "0SYpGr_UK75G"
      },
      "execution_count": null,
      "outputs": []
    },
    {
      "cell_type": "code",
      "source": [
        "def find_num(text):\n",
        "    pattern = r'\\b1\\d+\\b'\n",
        "    matches = re.findall(pattern, text)\n",
        "\n",
        "    return matches\n",
        "\n",
        "text = \"anf 17u fkjgktjg 123 gvbnn 81 jfjgj 12\"\n",
        "result = find_num(text)\n",
        "print(result)"
      ],
      "metadata": {
        "colab": {
          "base_uri": "https://localhost:8080/"
        },
        "id": "IO3g8SE_Km7N",
        "outputId": "9d2cd104-c2f2-4d7e-cc0c-1a89f790bcf9"
      },
      "execution_count": null,
      "outputs": [
        {
          "output_type": "stream",
          "name": "stdout",
          "text": [
            "['123', '12']\n"
          ]
        }
      ]
    },
    {
      "cell_type": "markdown",
      "metadata": {
        "id": "kRQZFphhuuz8"
      },
      "source": [
        "Задание со звездочкой *\n",
        "\n",
        "Примените lambda с использованием map к произвольным спискам\n",
        "1. Отсортируйте список по сумме 1 и 3 элемента списка в кортеже\n",
        "2. по разности первого элемента кортежа и первого элемента списка в кортеже"
      ]
    },
    {
      "cell_type": "code",
      "execution_count": null,
      "metadata": {
        "id": "ne_zj4vkaJFu"
      },
      "outputs": [],
      "source": [
        "a = [(1, [3, 10, 5]), (3, [1 ,4, 6]), (6, [15 ,4, 7])]"
      ]
    },
    {
      "cell_type": "markdown",
      "metadata": {
        "id": "QeKC6v2FaJFv"
      },
      "source": [
        "** Задача \"Парсер логов\" в папке"
      ]
    },
    {
      "cell_type": "code",
      "execution_count": null,
      "metadata": {
        "id": "_7F22qG6aJFv"
      },
      "outputs": [],
      "source": []
    }
  ],
  "metadata": {
    "colab": {
      "provenance": []
    },
    "kernelspec": {
      "display_name": "Python 3 (ipykernel)",
      "language": "python",
      "name": "python3"
    },
    "language_info": {
      "codemirror_mode": {
        "name": "ipython",
        "version": 3
      },
      "file_extension": ".py",
      "mimetype": "text/x-python",
      "name": "python",
      "nbconvert_exporter": "python",
      "pygments_lexer": "ipython3",
      "version": "3.10.11"
    }
  },
  "nbformat": 4,
  "nbformat_minor": 0
}